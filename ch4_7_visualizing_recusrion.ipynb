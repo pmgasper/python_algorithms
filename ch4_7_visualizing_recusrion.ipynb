{
 "cells": [
  {
   "cell_type": "code",
   "execution_count": null,
   "metadata": {
    "collapsed": true
   },
   "outputs": [],
   "source": []
  },
  {
   "cell_type": "code",
   "execution_count": 1,
   "metadata": {
    "collapsed": true
   },
   "outputs": [],
   "source": [
    "import turtle\n",
    "import numpy\n",
    "\n",
    "def branchstyle(branchLen, t):\n",
    "    if branchLen > 65:\n",
    "        t.color(\"brown\")\n",
    "        t.width(5)\n",
    "    else:\n",
    "        t.color(\"green\")\n",
    "        t.width(3)\n",
    "\n",
    "def tree(branchLen,t):\n",
    "    if branchLen > 5:\n",
    "        \n",
    "        branchstyle(branchLen, t)\n",
    "        t.forward(branchLen)\n",
    "        turn_deg = numpy.random.normal() * 10 + 20\n",
    "        t.right(turn_deg)\n",
    "        tree(branchLen - (numpy.random.normal() * 10 + 50), t)\n",
    "        t.left(turn_deg)\n",
    "        \n",
    "        turn_deg = numpy.random.normal() * 10 + 20\n",
    "        t.left(turn_deg)\n",
    "        tree(branchLen - (numpy.random.normal() * 10 + 50), t)\n",
    "        t.right(turn_deg)\n",
    "        \n",
    "        branchstyle(branchLen, t)\n",
    "        t.backward(branchLen)\n",
    "\n",
    "def main():\n",
    "    t = turtle.Turtle()\n",
    "    #myWin = turtle.Screen()\n",
    "    t.left(90)\n",
    "    t.up()\n",
    "    t.backward(400)\n",
    "    t.down()\n",
    "    tree(300,t)\n",
    "    #myWin.exitonclick()\n",
    "\n",
    "main()"
   ]
  },
  {
   "cell_type": "code",
   "execution_count": null,
   "metadata": {
    "collapsed": true
   },
   "outputs": [],
   "source": []
  }
 ],
 "metadata": {
  "kernelspec": {
   "display_name": "Python 2",
   "language": "python",
   "name": "python2"
  },
  "language_info": {
   "codemirror_mode": {
    "name": "ipython",
    "version": 2
   },
   "file_extension": ".py",
   "mimetype": "text/x-python",
   "name": "python",
   "nbconvert_exporter": "python",
   "pygments_lexer": "ipython2",
   "version": "2.7.13"
  }
 },
 "nbformat": 4,
 "nbformat_minor": 2
}
