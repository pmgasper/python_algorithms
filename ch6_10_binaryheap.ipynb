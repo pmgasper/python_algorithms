{
 "cells": [
  {
   "cell_type": "code",
   "execution_count": null,
   "metadata": {
    "collapsed": true
   },
   "outputs": [],
   "source": []
  },
  {
   "cell_type": "code",
   "execution_count": 1,
   "metadata": {},
   "outputs": [
    {
     "name": "stdout",
     "output_type": "stream",
     "text": [
      "2\n",
      "3\n",
      "5\n",
      "6\n",
      "9\n"
     ]
    }
   ],
   "source": [
    "class BinHeap:\n",
    "    def __init__(self):\n",
    "        self.heapList = [0]\n",
    "        self.currentSize = 0\n",
    "\n",
    "\n",
    "    def percUp(self,i):\n",
    "        while i // 2 > 0:\n",
    "          if self.heapList[i] < self.heapList[i // 2]:\n",
    "             tmp = self.heapList[i // 2]\n",
    "             self.heapList[i // 2] = self.heapList[i]\n",
    "             self.heapList[i] = tmp\n",
    "          i = i // 2\n",
    "\n",
    "    def insert(self,k):\n",
    "      self.heapList.append(k)\n",
    "      self.currentSize = self.currentSize + 1\n",
    "      self.percUp(self.currentSize)\n",
    "\n",
    "    def percDown(self,i):\n",
    "      while (i * 2) <= self.currentSize:\n",
    "          mc = self.minChild(i)\n",
    "          if self.heapList[i] > self.heapList[mc]:\n",
    "              tmp = self.heapList[i]\n",
    "              self.heapList[i] = self.heapList[mc]\n",
    "              self.heapList[mc] = tmp\n",
    "          i = mc\n",
    "\n",
    "    def minChild(self,i):\n",
    "      if i * 2 + 1 > self.currentSize:\n",
    "          return i * 2\n",
    "      else:\n",
    "          if self.heapList[i*2] < self.heapList[i*2+1]:\n",
    "              return i * 2\n",
    "          else:\n",
    "              return i * 2 + 1\n",
    "\n",
    "    def delMin(self):\n",
    "      retval = self.heapList[1]\n",
    "      self.heapList[1] = self.heapList[self.currentSize]\n",
    "      self.currentSize = self.currentSize - 1\n",
    "      self.heapList.pop()\n",
    "      self.percDown(1)\n",
    "      return retval\n",
    "\n",
    "    def buildHeap(self,alist):\n",
    "      i = len(alist) // 2\n",
    "      self.currentSize = len(alist)\n",
    "      self.heapList = [0] + alist[:]\n",
    "      while (i > 0):\n",
    "          self.percDown(i)\n",
    "          i = i - 1\n",
    "\n",
    "bh = BinHeap()\n",
    "bh.buildHeap([9,5,6,2,3])\n",
    "\n",
    "print(bh.delMin())\n",
    "print(bh.delMin())\n",
    "print(bh.delMin())\n",
    "print(bh.delMin())\n",
    "print(bh.delMin())"
   ]
  },
  {
   "cell_type": "code",
   "execution_count": null,
   "metadata": {
    "collapsed": true
   },
   "outputs": [],
   "source": []
  }
 ],
 "metadata": {
  "kernelspec": {
   "display_name": "Python 2",
   "language": "python",
   "name": "python2"
  },
  "language_info": {
   "codemirror_mode": {
    "name": "ipython",
    "version": 2
   },
   "file_extension": ".py",
   "mimetype": "text/x-python",
   "name": "python",
   "nbconvert_exporter": "python",
   "pygments_lexer": "ipython2",
   "version": "2.7.13"
  }
 },
 "nbformat": 4,
 "nbformat_minor": 2
}
