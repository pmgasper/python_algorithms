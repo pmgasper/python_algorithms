{
 "cells": [
  {
   "cell_type": "markdown",
   "metadata": {},
   "source": [
    "1) Write a recursive function to compute the factorial of a number.\n",
    "\n"
   ]
  },
  {
   "cell_type": "code",
   "execution_count": 1,
   "metadata": {},
   "outputs": [
    {
     "name": "stdout",
     "output_type": "stream",
     "text": [
      "True\n",
      "True\n",
      "True\n",
      "True\n",
      "True\n"
     ]
    }
   ],
   "source": [
    "def factorial(n):\n",
    "    '''Return the factorial of n found using recursion'''\n",
    "    \n",
    "    if n <= 1:\n",
    "        return 1\n",
    "    else:\n",
    "        return n * factorial(n-1)\n",
    "    \n",
    "import math\n",
    "print factorial(0) == math.factorial(0)\n",
    "print factorial(1) == math.factorial(1)\n",
    "print factorial(2) == math.factorial(2)\n",
    "print factorial(3) == math.factorial(3)\n",
    "print factorial(10) == math.factorial(10)\n",
    "\n",
    "    "
   ]
  },
  {
   "cell_type": "markdown",
   "metadata": {},
   "source": [
    "2) Write a recursive function to reverse a list."
   ]
  },
  {
   "cell_type": "code",
   "execution_count": 2,
   "metadata": {},
   "outputs": [
    {
     "name": "stdout",
     "output_type": "stream",
     "text": [
      "[2, 1]\n",
      "[3, 2, 1]\n",
      "[1]\n",
      "[]\n"
     ]
    }
   ],
   "source": [
    "def reverse(alist):\n",
    "    if len(alist) <= 1:\n",
    "        return alist[:]\n",
    "    else:\n",
    "        return reverse(alist[1:]) + alist[0:1]\n",
    "\n",
    "print reverse([1,2])\n",
    "print reverse([1,2,3])\n",
    "print reverse([1])\n",
    "print reverse([])\n",
    "\n",
    "    \n",
    "    "
   ]
  },
  {
   "cell_type": "markdown",
   "metadata": {},
   "source": [
    "3) Modify the recursive tree program using one or all of the following ideas:\n",
    "\n",
    "Modify the thickness of the branches so that as the branchLen gets smaller, the line gets thinner.<br>\n",
    "Modify the color of the branches so that as the branchLen gets very short it is colored like a leaf.<br>\n",
    "Modify the angle used in turning the turtle so that at each branch point the angle is selected at random in some range.<br>\n",
    "\n",
    "\n"
   ]
  },
  {
   "cell_type": "code",
   "execution_count": 3,
   "metadata": {
    "collapsed": true
   },
   "outputs": [],
   "source": [
    "import turtle\n",
    "import numpy\n",
    "\n",
    "def branchstyle(branchLen, t):\n",
    "    if branchLen > 65:\n",
    "        t.color(\"brown\")\n",
    "        t.width(5)\n",
    "    else:\n",
    "        t.color(\"green\")\n",
    "        t.width(3)\n",
    "\n",
    "def tree(branchLen,t):\n",
    "    if branchLen > 5:\n",
    "        \n",
    "        branchstyle(branchLen, t)\n",
    "        t.forward(branchLen)\n",
    "        turn_deg = numpy.random.normal() * 10 + 20\n",
    "        t.right(turn_deg)\n",
    "        tree(branchLen - (numpy.random.normal() * 10 + 50), t)\n",
    "        t.left(turn_deg)\n",
    "        \n",
    "        turn_deg = numpy.random.normal() * 10 + 20\n",
    "        t.left(turn_deg)\n",
    "        tree(branchLen - (numpy.random.normal() * 10 + 50), t)\n",
    "        t.right(turn_deg)\n",
    "        \n",
    "        branchstyle(branchLen, t)\n",
    "        t.backward(branchLen)\n",
    "\n",
    "def main():\n",
    "    t = turtle.Turtle()\n",
    "    myWin = turtle.Screen()\n",
    "    t.left(90)\n",
    "    t.up()\n",
    "    t.backward(400)\n",
    "    t.down()\n",
    "    tree(300,t)\n",
    "    myWin.exitonclick()\n",
    "\n",
    "main()"
   ]
  },
  {
   "cell_type": "markdown",
   "metadata": {},
   "source": [
    "9) Write a program to solve the following problem: You have two jugs: a 4-gallon jug and a 3-gallon jug. Neither of the jugs have markings on them. There is a pump that can be used to fill the jugs with water. How can you get exactly two gallons of water in the 4-gallon jug?\n",
    "\n",
    "and\n",
    "\n",
    "10) Generalize the problem above so that the parameters to your solution include the sizes of each jug and the final amount of water to be left in the larger jug."
   ]
  },
  {
   "cell_type": "code",
   "execution_count": 57,
   "metadata": {},
   "outputs": [
    {
     "name": "stdout",
     "output_type": "stream",
     "text": [
      "0 0\n",
      "32 0\n",
      "20 12\n",
      "20 0\n",
      "8 12\n",
      "8 0\n",
      "0 8\n",
      "32 8\n",
      "28 12\n",
      "28 0\n",
      "16 12\n",
      "16 0\n",
      "4 12\n",
      "['Fill larger jug', 'Transfer from larger to smaller jug', 'Dump smaller jug', 'Transfer from larger to smaller jug', 'Dump smaller jug', 'Transfer from larger to smaller jug', 'Fill larger jug', 'Transfer from larger to smaller jug', 'Dump smaller jug', 'Transfer from larger to smaller jug', 'Dump smaller jug', 'Transfer from larger to smaller jug', 'Got there']\n"
     ]
    }
   ],
   "source": [
    "# Manual solution\n",
    "# 4-jug  3-jug\n",
    "#   0       0\n",
    "#   4       0   fill 4\n",
    "#   1       3   trans 4 -> 3\n",
    "#   1       0   dump 3\n",
    "#   0       1   trans 4 -> 3\n",
    "#   4       1   fill 4\n",
    "#   2       3   trans 4 -> 3\n",
    "\n",
    "# Notes for algorithm design:\n",
    "#  only complete transfers might be useful\n",
    "#  immediately reversing a transfer is never useful\n",
    "#  filling both jugs is never useful\n",
    "#  filling a partially full jug is never useful\n",
    "\n",
    "class Jug():\n",
    "    def __init__(self, cap):\n",
    "        self.capacity = cap\n",
    "        self.curr_vol = 0\n",
    "\n",
    "    def fill(self):\n",
    "        self.curr_vol = self.capacity\n",
    "        \n",
    "    def dump(self):\n",
    "        self.curr_vol = 0\n",
    "        \n",
    "    def measure_fill(self):\n",
    "        return self.curr_vol\n",
    "    \n",
    "    def measure_space(self):\n",
    "        return self.capacity - self.curr_vol\n",
    "         \n",
    "    def trans_to(self, to_jug):\n",
    "        trans_vol = min(to_jug.measure_space(), self.curr_vol)\n",
    "        self.curr_vol -= trans_vol\n",
    "        to_jug.curr_vol += trans_vol\n",
    "\n",
    "def find_fill_path(jug_a, jug_b, target, path=[], been_there=set()):\n",
    "    ''' Given two jugs and a target volume of water for the larger\n",
    "        return a pathway to the volume or None if there is no pathway'''\n",
    "    \n",
    "    # impossible check\n",
    "    if (jug_a.measure_fill(), jug_b.measure_fill()) in been_there:\n",
    "        path.append('Still not there, seems impossible')\n",
    "        return path\n",
    "    else:\n",
    "        been_there.add((jug_a.measure_fill(), jug_b.measure_fill()))\n",
    "    \n",
    "    \n",
    "    print jug_a.measure_fill(), jug_b.measure_fill()\n",
    "\n",
    "    # If target achieved return path\n",
    "    if jug_a.measure_fill() == target:\n",
    "        path.append('Got there')\n",
    "\n",
    "    # If a is empty fill it\n",
    "    elif jug_a.measure_fill() == 0:\n",
    "        jug_a.fill()\n",
    "        path.append('Fill larger jug')\n",
    "        find_fill_path(jug_a, jug_b, target, path, been_there)\n",
    "\n",
    "    # If b is full dump it\n",
    "    elif jug_b.measure_space() == 0:\n",
    "        jug_b.dump()\n",
    "        path.append('Dump smaller jug')\n",
    "        find_fill_path(jug_a, jug_b, target, path, been_there)\n",
    "\n",
    "    # transfer a to b\n",
    "    else:\n",
    "        jug_a.trans_to(jug_b)\n",
    "        path.append('Transfer from larger to smaller jug')\n",
    "        find_fill_path(jug_a, jug_b, target, path, been_there)\n",
    "        \n",
    "    return path\n",
    "    \n",
    "jug_a = Jug(32)\n",
    "jug_b = Jug(12)\n",
    "\n",
    "print find_fill_path(jug_a, jug_b, 4)\n",
    "        \n",
    "        \n",
    "# Class tests\n",
    "# jug_a = Jug(4)\n",
    "# print jug_a.measure_fill()\n",
    "# jug_a.fill()\n",
    "# print jug_a.measure_fill()\n",
    "# jug_a.dump()\n",
    "# print jug_a.measure_fill()\n",
    "# print\n",
    "# jug_b = Jug(3)\n",
    "# print jug_a.measure_fill()\n",
    "# print jug_b.measure_fill()\n",
    "# jug_a.trans_to(jug_b)\n",
    "# print jug_a.measure_fill()\n",
    "# print jug_b.measure_fill()\n"
   ]
  },
  {
   "cell_type": "markdown",
   "metadata": {},
   "source": [
    "11) Write a program that solves the following problem: Three missionaries and three cannibals come to a river and find a boat that holds two people. Everyone must get across the river to continue on the journey. However, if the cannibals ever outnumber the missionaries on either bank, the missionaries will be eaten. Find a series of crossings that will get everyone safely to the other side of the river.\n",
    "\n"
   ]
  },
  {
   "cell_type": "code",
   "execution_count": null,
   "metadata": {
    "collapsed": true
   },
   "outputs": [],
   "source": [
    "\n",
    "\n",
    "\n",
    "\n",
    "\n",
    "\n",
    "\n",
    "\n",
    "\n"
   ]
  }
 ],
 "metadata": {
  "kernelspec": {
   "display_name": "Python 2",
   "language": "python",
   "name": "python2"
  },
  "language_info": {
   "codemirror_mode": {
    "name": "ipython",
    "version": 2
   },
   "file_extension": ".py",
   "mimetype": "text/x-python",
   "name": "python",
   "nbconvert_exporter": "python",
   "pygments_lexer": "ipython2",
   "version": "2.7.13"
  }
 },
 "nbformat": 4,
 "nbformat_minor": 2
}
