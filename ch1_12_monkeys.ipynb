{
 "cells": [
  {
   "cell_type": "markdown",
   "metadata": {},
   "source": [
    "### Infinite monkey test"
   ]
  },
  {
   "cell_type": "code",
   "execution_count": 63,
   "metadata": {
    "collapsed": true
   },
   "outputs": [],
   "source": [
    "from __future__ import division\n",
    "import random\n",
    "import string\n"
   ]
  },
  {
   "cell_type": "code",
   "execution_count": 83,
   "metadata": {},
   "outputs": [],
   "source": [
    "def gen_str(num_char, char_list=string.ascii_lowercase+' '):\n",
    "    '''Generates a string of num_char characters using random characters from char_list'''\n",
    "    new_str = ''\n",
    "    for _ in range(num_char):\n",
    "        new_str += random.choice(char_list)\n",
    "    return new_str\n",
    "\n",
    "def monkey(target_str):\n",
    "    '''Attempt to generate a target string by generating strings at random of equal length'''\n",
    "    random_str = ''\n",
    "    best_str = ''\n",
    "    attempts = 0\n",
    "    best_per = 0\n",
    "    per_correct = test_str(random_str, target_str)\n",
    "    while per_correct != 100:\n",
    "        random_str = gen_str(len(target_str))\n",
    "        per_correct = test_str(random_str, target_str)\n",
    "        if per_correct > best_per:\n",
    "            best_str = random_str\n",
    "            best_per = per_correct\n",
    "            print '{0:{3}}  {1:3}  {2:.2E}'.format(best_str, per_correct, attempts, len(target_str))\n",
    "        attempts += 1\n",
    "        \n",
    "    return attempts\n",
    "\n",
    "def test_str(check_str, target_str):\n",
    "    '''Return the percent characters that are the same by position in two strings '''\n",
    "    num_correct_char = 0\n",
    "    for check_char, target_char in zip(check_str, target_str):\n",
    "        if check_char == target_char:\n",
    "            num_correct_char +=1\n",
    "    percent_correct = (num_correct_char / len(target_str))  * 100\n",
    "    return percent_correct\n",
    "    "
   ]
  },
  {
   "cell_type": "code",
   "execution_count": null,
   "metadata": {},
   "outputs": [
    {
     "name": "stdout",
     "output_type": "stream",
     "text": [
      "hscyvnrb  12.5  0.00E+00\n",
      "repcqats  25.0  4.00E+00\n",
      "nbihinst  37.5  3.07E+02\n",
      "mmzhcnkp  50.0  6.08E+03\n",
      "jjthinvs  62.5  2.21E+04\n",
      "meihinxs  75.0  1.32E+07\n"
     ]
    }
   ],
   "source": [
    "#monkey('me')\n",
    "monkey('methinks')\n",
    "#monkey('methinks it is like a weasel')\n"
   ]
  },
  {
   "cell_type": "code",
   "execution_count": null,
   "metadata": {
    "collapsed": true
   },
   "outputs": [],
   "source": []
  }
 ],
 "metadata": {
  "kernelspec": {
   "display_name": "Python 2",
   "language": "python",
   "name": "python2"
  },
  "language_info": {
   "codemirror_mode": {
    "name": "ipython",
    "version": 2
   },
   "file_extension": ".py",
   "mimetype": "text/x-python",
   "name": "python",
   "nbconvert_exporter": "python",
   "pygments_lexer": "ipython2",
   "version": "2.7.13"
  }
 },
 "nbformat": 4,
 "nbformat_minor": 2
}
