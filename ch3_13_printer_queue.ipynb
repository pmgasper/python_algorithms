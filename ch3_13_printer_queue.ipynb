{
 "cells": [
  {
   "cell_type": "code",
   "execution_count": null,
   "metadata": {
    "collapsed": true
   },
   "outputs": [],
   "source": []
  },
  {
   "cell_type": "code",
   "execution_count": 20,
   "metadata": {},
   "outputs": [
    {
     "name": "stdout",
     "output_type": "stream",
     "text": [
      "Average Wait 128.00 secs   0 tasks remaining.\n",
      "Average Wait 241.00 secs   3 tasks remaining.\n",
      "Average Wait 658.00 secs   5 tasks remaining.\n",
      "Average Wait 138.00 secs   0 tasks remaining.\n",
      "Average Wait  89.00 secs   2 tasks remaining.\n",
      "Average Wait  21.00 secs   0 tasks remaining.\n",
      "Average Wait  17.00 secs   0 tasks remaining.\n",
      "Average Wait  33.00 secs   0 tasks remaining.\n",
      "Average Wait  85.00 secs   4 tasks remaining.\n",
      "Average Wait  59.00 secs   0 tasks remaining.\n"
     ]
    }
   ],
   "source": [
    "from pythonds.basic.queue import Queue\n",
    "\n",
    "import random\n",
    "\n",
    "class Printer:\n",
    "    def __init__(self, ppm):\n",
    "        self.pagerate = ppm\n",
    "        self.currentTask = None\n",
    "        self.timeRemaining = 0\n",
    "\n",
    "    def tick(self):\n",
    "        if self.currentTask != None:\n",
    "            self.timeRemaining = self.timeRemaining - 1\n",
    "            if self.timeRemaining <= 0:\n",
    "                self.currentTask = None\n",
    "\n",
    "    def busy(self):\n",
    "        if self.currentTask != None:\n",
    "            return True\n",
    "        else:\n",
    "            return False\n",
    "\n",
    "    def startNext(self,newtask):\n",
    "        self.currentTask = newtask\n",
    "        self.timeRemaining = newtask.getPages() * 60/self.pagerate\n",
    "\n",
    "class Task:\n",
    "    def __init__(self,time):\n",
    "        self.timestamp = time\n",
    "        self.pages = random.randrange(1,21)\n",
    "\n",
    "    def getStamp(self):\n",
    "        return self.timestamp\n",
    "\n",
    "    def getPages(self):\n",
    "        return self.pages\n",
    "\n",
    "    def waitTime(self, currenttime):\n",
    "        return currenttime - self.timestamp\n",
    "\n",
    "\n",
    "def simulation(numSeconds, pagesPerMinute, numStudents):\n",
    "\n",
    "    labprinter = Printer(pagesPerMinute)\n",
    "    printQueue = Queue()\n",
    "    waitingtimes = []\n",
    "\n",
    "    for currentSecond in range(numSeconds):\n",
    "\n",
    "      if newPrintTask(numStudents):\n",
    "         task = Task(currentSecond)\n",
    "         printQueue.enqueue(task)\n",
    "\n",
    "      if (not labprinter.busy()) and (not printQueue.isEmpty()):\n",
    "        nexttask = printQueue.dequeue()\n",
    "        waitingtimes.append( nexttask.waitTime(currentSecond))\n",
    "        labprinter.startNext(nexttask)\n",
    "\n",
    "      labprinter.tick()\n",
    "\n",
    "    averageWait=sum(waitingtimes)/len(waitingtimes)\n",
    "    print(\"Average Wait %6.2f secs %3d tasks remaining.\"%(averageWait,printQueue.size()))\n",
    "\n",
    "def newPrintTask(numStudents):\n",
    "    num = random.randrange(1, numStudents * 9 + 1)\n",
    "    if num == 1:\n",
    "        return True\n",
    "    else:\n",
    "        return False\n",
    "\n",
    "for i in range(10):\n",
    "    simulation(3600,5,20)"
   ]
  },
  {
   "cell_type": "code",
   "execution_count": null,
   "metadata": {
    "collapsed": true
   },
   "outputs": [],
   "source": []
  }
 ],
 "metadata": {
  "kernelspec": {
   "display_name": "Python 2",
   "language": "python",
   "name": "python2"
  },
  "language_info": {
   "codemirror_mode": {
    "name": "ipython",
    "version": 2
   },
   "file_extension": ".py",
   "mimetype": "text/x-python",
   "name": "python",
   "nbconvert_exporter": "python",
   "pygments_lexer": "ipython2",
   "version": "2.7.13"
  }
 },
 "nbformat": 4,
 "nbformat_minor": 2
}
