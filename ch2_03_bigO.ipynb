{
 "cells": [
  {
   "cell_type": "markdown",
   "metadata": {},
   "source": [
    "Write two Python functions to find the minimum number in a list. The first function should compare each number to every other number on the list. O(n2)O(n2). The second function should be linear O(n)O(n)\n"
   ]
  },
  {
   "cell_type": "code",
   "execution_count": 42,
   "metadata": {
    "collapsed": true
   },
   "outputs": [],
   "source": [
    "import random\n",
    "import time"
   ]
  },
  {
   "cell_type": "code",
   "execution_count": 53,
   "metadata": {
    "collapsed": true
   },
   "outputs": [],
   "source": [
    "def find_min_ineff(value_list):\n",
    "    ''' Find the minimum value in a list by comparing all values'''\n",
    "    for val_1 in value_list:\n",
    "        is_min = True\n",
    "        for val_2 in value_list:\n",
    "            if val_1 > val_2:\n",
    "                is_min = False\n",
    "        if is_min:\n",
    "            return val_1\n",
    "            \n",
    "    return val_1            \n",
    "    \n",
    "def find_min_eff(value_list):\n",
    "    ''' Find the minimum value in a list, in linear time'''\n",
    "    min = value_list[0]\n",
    "    for value in value_list[1:]:\n",
    "        if value < min:\n",
    "            min = value\n",
    "    return min"
   ]
  },
  {
   "cell_type": "code",
   "execution_count": 54,
   "metadata": {},
   "outputs": [
    {
     "name": "stdout",
     "output_type": "stream",
     "text": [
      "Inefficient min = 0.0000272 in 1.95E+00 seconds\n",
      "Efficient min =   0.0000272 in 4.34E-04 seconds\n"
     ]
    }
   ],
   "source": [
    "somelist = [random.random() for _ in range(10000)]\n",
    "\n",
    "\n",
    "start_time = time.time()\n",
    "min_val = find_min_ineff(somelist)\n",
    "end_time = time.time()\n",
    "print 'Inefficient min = {0:.7f} in {1:.2E} seconds'.format(min_val, end_time - start_time)\n",
    "\n",
    "start_time = time.time()\n",
    "min_val = find_min_eff(somelist)\n",
    "end_time = time.time()\n",
    "print 'Efficient min =   {0:.7f} in {1:.2E} seconds'.format(min_val, end_time - start_time)\n"
   ]
  },
  {
   "cell_type": "code",
   "execution_count": null,
   "metadata": {
    "collapsed": true
   },
   "outputs": [],
   "source": []
  }
 ],
 "metadata": {
  "kernelspec": {
   "display_name": "Python 2",
   "language": "python",
   "name": "python2"
  },
  "language_info": {
   "codemirror_mode": {
    "name": "ipython",
    "version": 2
   },
   "file_extension": ".py",
   "mimetype": "text/x-python",
   "name": "python",
   "nbconvert_exporter": "python",
   "pygments_lexer": "ipython2",
   "version": "2.7.13"
  }
 },
 "nbformat": 4,
 "nbformat_minor": 2
}
