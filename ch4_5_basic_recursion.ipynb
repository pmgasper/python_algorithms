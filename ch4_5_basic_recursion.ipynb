{
 "cells": [
  {
   "cell_type": "code",
   "execution_count": null,
   "metadata": {
    "collapsed": true
   },
   "outputs": [],
   "source": []
  },
  {
   "cell_type": "code",
   "execution_count": 1,
   "metadata": {},
   "outputs": [
    {
     "name": "stdout",
     "output_type": "stream",
     "text": [
      "5AD\n",
      "301\n"
     ]
    }
   ],
   "source": [
    "def toStr(n,base):\n",
    "    '''Convert an interger in specified base to a string'''\n",
    "    convertString = \"0123456789ABCDEF\"\n",
    "    if n < base:\n",
    "        return convertString[n]\n",
    "    else:\n",
    "        return toStr(n//base,base) + convertString[n%base]\n",
    "\n",
    "print(toStr(1453,16))\n",
    "print(toStr(769,16))"
   ]
  },
  {
   "cell_type": "code",
   "execution_count": 5,
   "metadata": {},
   "outputs": [
    {
     "name": "stdout",
     "output_type": "stream",
     "text": [
      "woc yloh\n"
     ]
    }
   ],
   "source": [
    "def rev_str(forward_str):\n",
    "    '''Recursively reverse the order of characetrs in a string'''\n",
    "    \n",
    "    if len(forward_str) <= 1:\n",
    "        return forward_str\n",
    "    else:\n",
    "        return forward_str[-1] + rev_str(forward_str[:-1])\n",
    "\n",
    "print rev_str('holy cow')\n",
    "    "
   ]
  },
  {
   "cell_type": "code",
   "execution_count": 30,
   "metadata": {},
   "outputs": [
    {
     "name": "stdout",
     "output_type": "stream",
     "text": [
      "True\n",
      "True\n",
      "True\n"
     ]
    }
   ],
   "source": [
    "def removeWhite(s):\n",
    "    from string import whitespace\n",
    "    from string import punctuation\n",
    "\n",
    "    stripped_s = ''\n",
    "    for char in s:\n",
    "        if char not in whitespace and char not in punctuation:\n",
    "            stripped_s += char\n",
    "    return stripped_s.lower()\n",
    "    \n",
    "#print removeWhite('what are you doing, Paul?   ')\n",
    "\n",
    "def isPal(s):\n",
    "    if len(s) <= 1:\n",
    "        return True\n",
    "    elif s[0] != s[-1]:\n",
    "        return False\n",
    "    else:\n",
    "        return isPal(s[1:-1])\n",
    "\n",
    "\n",
    "print isPal(removeWhite(\"\"))\n",
    "print isPal(removeWhite(\"hannah\"))\n",
    "print isPal(removeWhite(\"madam i'm adam\"))\n",
    "\n"
   ]
  },
  {
   "cell_type": "code",
   "execution_count": null,
   "metadata": {},
   "outputs": [],
   "source": []
  },
  {
   "cell_type": "code",
   "execution_count": null,
   "metadata": {
    "collapsed": true
   },
   "outputs": [],
   "source": []
  }
 ],
 "metadata": {
  "kernelspec": {
   "display_name": "Python 2",
   "language": "python",
   "name": "python2"
  },
  "language_info": {
   "codemirror_mode": {
    "name": "ipython",
    "version": 2
   },
   "file_extension": ".py",
   "mimetype": "text/x-python",
   "name": "python",
   "nbconvert_exporter": "python",
   "pygments_lexer": "ipython2",
   "version": "2.7.13"
  }
 },
 "nbformat": 4,
 "nbformat_minor": 2
}
