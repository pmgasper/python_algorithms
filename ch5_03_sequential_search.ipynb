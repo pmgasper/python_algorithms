{
 "cells": [
  {
   "cell_type": "markdown",
   "metadata": {},
   "source": [
    "## Sequential search"
   ]
  },
  {
   "cell_type": "code",
   "execution_count": 1,
   "metadata": {},
   "outputs": [
    {
     "name": "stdout",
     "output_type": "stream",
     "text": [
      "False\n",
      "True\n"
     ]
    }
   ],
   "source": [
    "# My function\n",
    "from __future__ import print_function\n",
    "\n",
    "def seq_search(inlist, target):\n",
    "    ''' return True it target is in ordered list, otherwise False '''\n",
    "    for item in inlist:\n",
    "        if item == target:\n",
    "            return True\n",
    "        elif item > target:\n",
    "            return False\n",
    "    return False\n",
    "\n",
    "testlist = [0, 1, 2, 8, 13, 17, 19, 32, 42,]\n",
    "print(seq_search(testlist, 3))\n",
    "print(seq_search(testlist, 13))\n"
   ]
  },
  {
   "cell_type": "code",
   "execution_count": 26,
   "metadata": {},
   "outputs": [
    {
     "name": "stdout",
     "output_type": "stream",
     "text": [
      "False\n",
      "True\n"
     ]
    }
   ],
   "source": [
    "# Text function\n",
    "def orderedSequentialSearch(alist, item):\n",
    "    pos = 0\n",
    "    found = False\n",
    "    stop = False\n",
    "    while pos < len(alist) and not found and not stop:\n",
    "        if alist[pos] == item:\n",
    "            found = True\n",
    "        else:\n",
    "            if alist[pos] > item:\n",
    "                stop = True\n",
    "            else:\n",
    "                pos = pos+1\n",
    "\n",
    "    return found\n",
    "\n",
    "testlist = [0, 1, 2, 8, 13, 17, 19, 32, 42,]\n",
    "print(orderedSequentialSearch(testlist, 3))\n",
    "print(orderedSequentialSearch(testlist, 13))"
   ]
  },
  {
   "cell_type": "markdown",
   "metadata": {},
   "source": [
    "### Big O analysis\n",
    "| Case              | Best | Worst | Average |\n",
    "|:------------------|:----:|:-----:|:-------:|\n",
    "| item present      | 1    | n     | n/2     |\n",
    "| item note present | n    | n     | n       |\n"
   ]
  },
  {
   "cell_type": "code",
   "execution_count": 32,
   "metadata": {},
   "outputs": [
    {
     "name": "stdout",
     "output_type": "stream",
     "text": [
      "my seq_search first item   28.8 microsec \n",
      "my seq_search last item    68.5 microsec \n",
      "my seq_search no item low  23.2 microsec \n",
      "my seq_search no item high 50.2 microsec \n",
      "\n",
      "their seq_search first item   49.4 microsec \n",
      "their seq_search last item    50.3 microsec \n",
      "their seq_search no item low  51.4 microsec \n",
      "their seq_search no item high 51.8 microsec \n"
     ]
    }
   ],
   "source": [
    "from timeit import Timer\n",
    "replicates = 100000\n",
    "\n",
    "t1 = Timer('seq_search(testlist, 3)', 'from __main__ import seq_search, testlist')\n",
    "print('my seq_search first item   {0:.1f} microsec '.format(t1.timeit(number=replicates) * 1000)) \n",
    "\n",
    "t1 = Timer('seq_search(testlist, 42)', 'from __main__ import seq_search, testlist')\n",
    "print('my seq_search last item    {0:.1f} microsec '.format(t1.timeit(number=replicates) * 1000)) \n",
    "\n",
    "t1 = Timer('seq_search(testlist, -1)', 'from __main__ import seq_search, testlist')\n",
    "print('my seq_search no item low  {0:.1f} microsec '.format(t1.timeit(number=replicates) * 1000)) \n",
    "\n",
    "t1 = Timer('seq_search(testlist, 99)', 'from __main__ import seq_search, testlist')\n",
    "print('my seq_search no item high {0:.1f} microsec '.format(t1.timeit(number=replicates) * 1000)) \n",
    "print()\n",
    "\n",
    "t2 = Timer('orderedSequentialSearch(testlist, 3)', 'from __main__ import orderedSequentialSearch, testlist')\n",
    "print('their seq_search first item   {0:.1f} microsec '.format(t1.timeit(number=replicates) * 1000)) \n",
    "\n",
    "t2 = Timer('orderedSequentialSearch(testlist, 42)', 'from __main__ import orderedSequentialSearch, testlist')\n",
    "print('their seq_search last item    {0:.1f} microsec '.format(t1.timeit(number=replicates) * 1000)) \n",
    "\n",
    "t2 = Timer('orderedSequentialSearch(testlist, -1)', 'from __main__ import orderedSequentialSearch, testlist')\n",
    "print('their seq_search no item low  {0:.1f} microsec '.format(t1.timeit(number=replicates) * 1000)) \n",
    "\n",
    "t2 = Timer('orderedSequentialSearch(testlist, 99)', 'from __main__ import orderedSequentialSearch, testlist')\n",
    "print('their seq_search no item high {0:.1f} microsec '.format(t1.timeit(number=replicates) * 1000)) \n",
    "\n",
    "\n",
    "\n"
   ]
  },
  {
   "cell_type": "code",
   "execution_count": null,
   "metadata": {
    "collapsed": true
   },
   "outputs": [],
   "source": []
  }
 ],
 "metadata": {
  "kernelspec": {
   "display_name": "Python 2",
   "language": "python",
   "name": "python2"
  },
  "language_info": {
   "codemirror_mode": {
    "name": "ipython",
    "version": 2
   },
   "file_extension": ".py",
   "mimetype": "text/x-python",
   "name": "python",
   "nbconvert_exporter": "python",
   "pygments_lexer": "ipython2",
   "version": "2.7.13"
  }
 },
 "nbformat": 4,
 "nbformat_minor": 2
}
