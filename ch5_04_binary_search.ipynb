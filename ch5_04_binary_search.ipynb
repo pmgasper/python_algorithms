{
 "cells": [
  {
   "cell_type": "markdown",
   "metadata": {},
   "source": [
    "\n",
    "1234567890123456789012345678901234567890123456789012345678901234567890123456789\n",
    "         1         2         3         4         5         6         7"
   ]
  },
  {
   "cell_type": "code",
   "execution_count": 1,
   "metadata": {},
   "outputs": [],
   "source": [
    "from __future__ import print_function, division"
   ]
  },
  {
   "cell_type": "code",
   "execution_count": 2,
   "metadata": {},
   "outputs": [],
   "source": [
    "import random\n",
    "random.seed(42)\n",
    "ordered_list_even = [1,2,3,4,5,6,7,8,9,10]\n",
    "ordered_list_odd = [1,2,3,4,5,6,7,8,9,10,11]\n",
    "ordered_list_rand = sorted([random.randint(0,100) for _ in range(100)])"
   ]
  },
  {
   "cell_type": "code",
   "execution_count": 3,
   "metadata": {},
   "outputs": [],
   "source": [
    "# Not recursive - w/ splicing version\n",
    "    # Splicing is O(k)\n",
    "def binary_search_nr_sp(inlist, target):\n",
    "    '''use binary search to return true if target is in ordered list \n",
    "       inlist, otherwise false'''\n",
    "    \n",
    "    while len(inlist) > 0:\n",
    "        mid_point = (len(inlist) - 1) // 2\n",
    "        if inlist[mid_point] < target:\n",
    "            inlist = inlist[mid_point + 1:]\n",
    "        elif inlist[mid_point] > target:\n",
    "            inlist = inlist[:mid_point]\n",
    "        else:\n",
    "            return True\n",
    "    return False\n",
    "\n"
   ]
  },
  {
   "cell_type": "code",
   "execution_count": 8,
   "metadata": {},
   "outputs": [],
   "source": [
    "# Not recursive - no splicing version\n",
    "\n",
    "def binary_search_nr_nsp(inlist, target):\n",
    "    '''use binary search to return true if target is in ordered list \n",
    "       inlist, otherwise false'''\n",
    "    \n",
    "    start_idx = 0\n",
    "    end_idx = len(inlist) - 1\n",
    "    \n",
    "    while start_idx <= end_idx:\n",
    "        mid_idx = (start_idx + end_idx) // 2\n",
    "        #print(start_idx, mid_idx, end_idx)\n",
    "    \n",
    "        if inlist[mid_idx] == target: # target found\n",
    "            return True\n",
    "        elif inlist[mid_idx] < target: # target is after mid point or not present\n",
    "            start_idx = mid_idx + 1\n",
    "        else:\n",
    "            end_idx = mid_idx - 1 # target is before mid point or not present\n",
    "    \n",
    "    return False\n"
   ]
  },
  {
   "cell_type": "code",
   "execution_count": 5,
   "metadata": {},
   "outputs": [
    {
     "name": "stdout",
     "output_type": "stream",
     "text": [
      "True\n",
      "False\n"
     ]
    }
   ],
   "source": [
    "# Tests\n",
    "print(binary_search_nr_nsp(ordered_list_even, 1))\n",
    "#print(binary_search_nr_nsp(ordered_list_even, 5))\n",
    "#print(binary_search_nr_nsp(ordered_list_even, 10))\n",
    "print(binary_search_nr_nsp(ordered_list_even, 20))\n",
    "#print()\n",
    "#print(binary_search_nr_nsp(ordered_list_odd, 1))\n",
    "#print(binary_search_nr_nsp(ordered_list_odd, 5))\n",
    "#print(binary_search_nr_nsp(ordered_list_odd, 11))\n",
    "#print(binary_search_nr_nsp(ordered_list_odd, 20))"
   ]
  },
  {
   "cell_type": "code",
   "execution_count": 48,
   "metadata": {},
   "outputs": [],
   "source": [
    "# Recursive version \n",
    "\n",
    "def binary_search_r_nsp(inlist, target, start_idx=0, end_idx=None):\n",
    "    '''use recursive binary search to return true if target is in ordered list \n",
    "       inlist, otherwise false'''\n",
    "    \n",
    "    if end_idx == None:\n",
    "        end_idx = len(inlist) - 1\n",
    "        \n",
    "    mid_idx = ((end_idx + start_idx) // 2) \n",
    "    \n",
    "    if inlist[mid_idx] == target:\n",
    "        return True\n",
    "    elif inlist[mid_idx] < target:\n",
    "        start_idx = mid_idx + 1\n",
    "    else:\n",
    "        end_idx = mid_idx - 1\n",
    "    \n",
    "    #print(start_idx, end_idx, mid_idx)\n",
    "    if start_idx <= end_idx:\n",
    "        return(binary_search_r_nsp(inlist, target, start_idx, end_idx))\n",
    "    else:\n",
    "        return False"
   ]
  },
  {
   "cell_type": "code",
   "execution_count": 52,
   "metadata": {},
   "outputs": [
    {
     "name": "stdout",
     "output_type": "stream",
     "text": [
      "False\n",
      "True\n",
      "True\n",
      "True\n",
      "False\n",
      "\n",
      "False\n",
      "True\n",
      "True\n",
      "True\n",
      "False\n"
     ]
    }
   ],
   "source": [
    "# Tests\n",
    "print(binary_search_r_nsp(ordered_list_even, 0))\n",
    "print(binary_search_r_nsp(ordered_list_even, 1))\n",
    "print(binary_search_r_nsp(ordered_list_even, 5))\n",
    "print(binary_search_r_nsp(ordered_list_even, 10))\n",
    "print(binary_search_r_nsp(ordered_list_even, 20))\n",
    "print()\n",
    "print(binary_search_r_nsp(ordered_list_odd, 0))\n",
    "print(binary_search_r_nsp(ordered_list_odd, 1))\n",
    "print(binary_search_r_nsp(ordered_list_odd, 5))\n",
    "print(binary_search_r_nsp(ordered_list_odd, 11))\n",
    "print(binary_search_r_nsp(ordered_list_odd, 20))"
   ]
  },
  {
   "cell_type": "code",
   "execution_count": 62,
   "metadata": {},
   "outputs": [
    {
     "name": "stdout",
     "output_type": "stream",
     "text": [
      "my non-recursive, not spliced 1.06 microsec \n",
      "my non-recursive, spliced 3.79 microsec \n",
      "my recursive,     not spliced 1.93 microsec \n"
     ]
    }
   ],
   "source": [
    "from timeit import Timer\n",
    "replicates = 1000\n",
    "\n",
    "t1 = Timer('binary_search_nr_nsp(ordered_list_rand, 1)', \n",
    "           'from __main__ import binary_search_nr_nsp, ordered_list_rand')\n",
    "print('my non-recursive, not spliced {0:.2f} microsec '.\\\n",
    "      format(t1.timeit(number=replicates) * 1000)) \n",
    "\n",
    "t1 = Timer('binary_search_nr_sp(ordered_list_rand, 1)', \n",
    "           'from __main__ import binary_search_nr_sp, ordered_list_rand')\n",
    "print('my non-recursive, spliced {0:.2f} microsec '.\\\n",
    "      format(t1.timeit(number=replicates) * 1000)) \n",
    "\n",
    "t1 = Timer('binary_search_r_nsp(ordered_list_rand, 1)', \n",
    "           'from __main__ import binary_search_r_nsp, ordered_list_rand')\n",
    "print('my recursive,     not spliced {0:.2f} microsec '.\\\n",
    "      format(t1.timeit(number=replicates) * 1000)) \n"
   ]
  },
  {
   "cell_type": "code",
   "execution_count": null,
   "metadata": {
    "collapsed": true
   },
   "outputs": [],
   "source": []
  }
 ],
 "metadata": {
  "kernelspec": {
   "display_name": "Python 2",
   "language": "python",
   "name": "python2"
  },
  "language_info": {
   "codemirror_mode": {
    "name": "ipython",
    "version": 2
   },
   "file_extension": ".py",
   "mimetype": "text/x-python",
   "name": "python",
   "nbconvert_exporter": "python",
   "pygments_lexer": "ipython2",
   "version": "2.7.13"
  }
 },
 "nbformat": 4,
 "nbformat_minor": 2
}
